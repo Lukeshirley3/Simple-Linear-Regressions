{
 "nbformat": 4,
 "nbformat_minor": 2,
 "metadata": {
  "language_info": {
   "name": "python",
   "codemirror_mode": {
    "name": "ipython",
    "version": 3
   },
   "version": "3.7.3-final"
  },
  "orig_nbformat": 2,
  "file_extension": ".py",
  "mimetype": "text/x-python",
  "name": "python",
  "npconvert_exporter": "python",
  "pygments_lexer": "ipython3",
  "version": 3,
  "kernelspec": {
   "name": "python37364bitbaseconda5994b4e167854476be8aec73de17ebc4",
   "display_name": "Python 3.7.3 64-bit ('base': conda)"
  }
 },
 "cells": [
  {
   "cell_type": "code",
   "execution_count": 9,
   "metadata": {},
   "outputs": [
    {
     "name": "stdout",
     "output_type": "stream",
     "text": "SVR Confidence: 92.49%\nLinear Regression Confidence: 98.82%\n"
    }
   ],
   "source": [
    "#imports\n",
    "import quandl\n",
    "import numpy as np \n",
    "from sklearn.linear_model import LinearRegression\n",
    "from sklearn.svm import SVR\n",
    "from sklearn.model_selection import train_test_split\n",
    "\n",
    "#Pull data\n",
    "amazon = quandl.get(\"WIKI/AMZN\")\n",
    "\n",
    "#Pull adj close\n",
    "amazon = amazon[['Adj. Close']]\n",
    "\n",
    "#Predict for 30 days\n",
    "forecast_len = 30\n",
    "amazon['Predicted'] = amazon[['Adj. Close']].shift(-forecast_len)\n",
    "\n",
    "#Drop Predicted column; NumPy array to create dataset\n",
    "x = np.array(amazon.drop(['Predicted'],1))\n",
    "\n",
    "#Remove last 30 rows\n",
    "x = x[:-forecast_len]\n",
    "\n",
    "#Create dependent dataset for predicted values, remove the last 30 rows\n",
    "y = np.array(amazon['Predicted'])\n",
    "y = y[:-forecast_len]\n",
    "\n",
    "#Split datasets into training and test sets (80% and 20%)\n",
    "x_train, x_test, y_train, y_test = train_test_split(x, y, test_size = 0.2)\n",
    "\n",
    "#Create SVR model and train it\n",
    "svr_rbf = SVR(kernel = 'rbf', C = 1e3, gamma = 0.1) \n",
    "svr_rbf.fit(x_train, y_train)\n",
    "\n",
    "#Get score\n",
    "svr_rbf_confidence = svr_rbf.score(x_test, y_test)\n",
    "print(f\"SVR Confidence: {round(svr_rbf_confidence * 100, 2)}%\")\n",
    "\n",
    "#Create Linear Regression model and train it\n",
    "lr = LinearRegression()\n",
    "lr.fit(x_train, y_train)\n",
    "\n",
    "#DataFlair - Get score for Linear Regression\n",
    "lr_confidence = lr.score(x_test, y_test)\n",
    "print(f\"Linear Regression Confidence: {round(lr_confidence * 100, 2)}%\")"
   ]
  },
  {
   "cell_type": "code",
   "execution_count": null,
   "metadata": {},
   "outputs": [],
   "source": []
  }
 ]
}